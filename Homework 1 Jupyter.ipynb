{
 "cells": [
  {
   "cell_type": "code",
   "execution_count": 3,
   "metadata": {
    "collapsed": false
   },
   "outputs": [],
   "source": [
    "import adaptive_trapezint as prob1\n",
    "import sinesum1 as prob2\n",
    "import centered_diff as prob3\n",
    "import find_primes as prob4"
   ]
  },
  {
   "cell_type": "markdown",
   "metadata": {},
   "source": [
    "# Homework 1\n",
    "\n",
    "## Chinmai Raman\n",
    "\n",
    "2/12/2016\n",
    "\n",
    "### Problem Set:\n",
    "\n",
    "3.8 adaptive_trapezint.py\n",
    "\n",
    "3.15 sinesum1.py\n",
    "\n",
    "3.18 centered_diff.py\n",
    "\n",
    "3.34 find_primes.py\n",
    "\n",
    "## Adaptive Trapezint\n",
    "Uses the Trapezoid Rule to find the integral of a function within a given error margin,\n",
    "and outputs the number of trapezoids used."
   ]
  },
  {
   "cell_type": "code",
   "execution_count": 2,
   "metadata": {
    "collapsed": false
   },
   "outputs": [
    {
     "name": "stdout",
     "output_type": "stream",
     "text": [
      "Function\tError\t\t\tEstimated n\n",
      "Cos [0, pi]\t0.00226972593728\t508.367284751\n",
      "Sin [0, pi]\t8.94076871139e-06\t508.367284751\n",
      "Sin [0, pi/2]\t0.00642962323093\t179.73497719\n"
     ]
    }
   ],
   "source": [
    "prob1.integrals()"
   ]
  },
  {
   "cell_type": "markdown",
   "metadata": {},
   "source": [
    "## Sine Summation\n",
    "\n",
    "Approximates a piecewise constant function by a sum of sines"
   ]
  },
  {
   "cell_type": "code",
   "execution_count": 4,
   "metadata": {
    "collapsed": false
   },
   "outputs": [
    {
     "name": "stdout",
     "output_type": "stream",
     "text": [
      "Alpha\tn\tf(t)\t\tS(t)\t\terror\n",
      " 0.01     1    1.0000000000    0.0799473725    0.9200526275\n",
      " 0.01     3    1.0000000000    0.2381650038    0.7618349962\n",
      " 0.01     5    1.0000000000    0.3914145647    0.6085854353\n",
      " 0.01    10    1.0000000000    0.7332025651    0.2667974349\n",
      " 0.01    30    1.0000000000    1.1448161078   -0.1448161078\n",
      " 0.01   100    1.0000000000    0.9499059917    0.0500940083\n",
      " 0.25     1    1.0000000000    1.2732395447   -0.2732395447\n",
      " 0.25     3    1.0000000000    1.1034742721   -0.1034742721\n",
      " 0.25     5    1.0000000000    1.0630539691   -0.0630539691\n",
      " 0.25    10    1.0000000000    0.9682476229    0.0317523771\n",
      " 0.25    30    1.0000000000    0.9893926137    0.0106073863\n",
      " 0.25   100    1.0000000000    0.9968169807    0.0031830193\n",
      " 0.49     1    1.0000000000    0.0799473725    0.9200526275\n",
      " 0.49     3    1.0000000000    0.2381650038    0.7618349962\n",
      " 0.49     5    1.0000000000    0.3914145647    0.6085854353\n",
      " 0.49    10    1.0000000000    0.7332025651    0.2667974349\n",
      " 0.49    30    1.0000000000    1.1448161078   -0.1448161078\n",
      " 0.49   100    1.0000000000    0.9499059917    0.0500940083\n"
     ]
    }
   ],
   "source": [
    "prob2.output()"
   ]
  },
  {
   "cell_type": "markdown",
   "metadata": {},
   "source": [
    "As n increases, the quality of the approximation is better, and error is reduced. For a given n\n",
    "(for example, 100) as alpha increases, the error seems to reduce and subsequently increase. "
   ]
  },
  {
   "cell_type": "markdown",
   "metadata": {},
   "source": [
    "## Centered Differentiation\n",
    "\n",
    "A function for numerical differentiation and errors in approximation."
   ]
  },
  {
   "cell_type": "code",
   "execution_count": 5,
   "metadata": {
    "collapsed": false
   },
   "outputs": [
    {
     "name": "stdout",
     "output_type": "stream",
     "text": [
      "f(x)\t\tx\tf'(x)\tapproximation of f'(x)\terror\n",
      "e^x\t\t0\t1\t1.00001666675\t\t1.66667499921e-05\n",
      "e^(-2x^2)\t0\t0\t0.0\t\t\t0.0\n",
      "cos(x)\t\t2pi\t0\t0.0\t\t\t0.0\n",
      "ln(x)\t\t1\t1\t1.00003333533\t\t3.33353334772e-05\n"
     ]
    }
   ],
   "source": [
    "prob3.application()"
   ]
  },
  {
   "cell_type": "markdown",
   "metadata": {},
   "source": [
    "## Sieve of Eratosthenes\n",
    "\n",
    "Finds all prime numbers less than or equal to a given number N."
   ]
  },
  {
   "cell_type": "code",
   "execution_count": 7,
   "metadata": {
    "collapsed": false
   },
   "outputs": [
    {
     "name": "stdout",
     "output_type": "stream",
     "text": [
      "[2, 3, 5, 7, 11, 13, 17, 19, 23, 29, 31, 37, 41, 43, 47, 53, 59, 61, 67, 71, 73, 79, 83, 89, 97]\n"
     ]
    }
   ],
   "source": [
    "prob4.sieve(100)\n",
    "print(prob4.primes)"
   ]
  }
 ],
 "metadata": {
  "kernelspec": {
   "display_name": "Python 2 (SageMath)",
   "language": "python",
   "name": "python2"
  },
  "language_info": {
   "codemirror_mode": {
    "name": "ipython",
    "version": 2
   },
   "file_extension": ".py",
   "mimetype": "text/x-python",
   "name": "python",
   "nbconvert_exporter": "python",
   "pygments_lexer": "ipython2",
   "version": "2.7.10"
  },
  "name": "Homework 1 Jupyter.ipynb"
 },
 "nbformat": 4,
 "nbformat_minor": 0
}
